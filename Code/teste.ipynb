{
 "cells": [
  {
   "cell_type": "code",
   "execution_count": null,
   "metadata": {},
   "outputs": [],
   "source": [
    "import numpy as np\n",
    "import h5py\n",
    "from concurrent.futures import ProcessPoolExecutor, ThreadPoolExecutor, as_completed\n",
    "import os\n",
    "from zss import Node, simple_distance\n",
    "import re\n",
    "from tqdm.auto import tqdm\n",
    "import json\n",
    "import time\n",
    "import pandas as pd"
   ]
  },
  {
   "cell_type": "code",
   "execution_count": null,
   "metadata": {},
   "outputs": [],
   "source": [
    "np.random.seed(42)\n",
    "\n",
    "def rev_bfs(tree, root_index=0):\n",
    "    rbfs = list()\n",
    "\n",
    "    queue = [root_index]\n",
    "    while (len(queue) > 0):\n",
    "        current_index = queue.pop(0)\n",
    "        rbfs.insert(0, current_index)\n",
    "        for c in tree[current_index]['children']:\n",
    "            queue.append(c)\n",
    "\n",
    "    return rbfs"
   ]
  },
  {
   "cell_type": "code",
   "execution_count": null,
   "metadata": {},
   "outputs": [],
   "source": [
    "def parse_graphviz_tree_zss(gv_tree, root_index=0, constant_bins=None, **args):\n",
    "    tree = dict()\n",
    "    # nodes = re.findall(r'\\d+ \\[label=\\\"\\S+', gv_tree)\n",
    "    nodes = re.findall(r'^(.*?)(?=\\s+fillcolor)', gv_tree, re.MULTILINE)\n",
    "\n",
    "    for i in range(len(nodes)):\n",
    "        \n",
    "        nodes[i] = nodes[i].split(' [label=')\n",
    "        nodes[i][0] = int(nodes[i][0])\n",
    "        \n",
    "        nodes[i][1] = nodes[i][1].replace(',', '')\n",
    "        tree[nodes[i][0]] = {'depth': 1, 'value': nodes[i][1], 'children': list()}\n",
    "    \n",
    "    children = re.findall(r'\\d+ -> \\d+', gv_tree)\n",
    "    for i in range(len(children)):\n",
    "        \n",
    "        children[i] = children[i].split(' -> ')\n",
    "        children[i][0] = int(children[i][0])\n",
    "        children[i][1] = int(children[i][1])\n",
    "        tree[children[i][0]]['children'].append(children[i][1])\n",
    "        tree[children[i][0]]['children'].sort()\n",
    "    \n",
    "\n",
    "    starting_index = min(tree.keys())\n",
    "    stack = [starting_index]\n",
    "    tree_height = 0\n",
    "    while len(stack) > 0:\n",
    "        current_node = stack.pop(0)\n",
    "        current_depth = tree[current_node]['depth']\n",
    "        if (tree_height < current_depth):\n",
    "            tree_height = current_depth\n",
    "        for i in tree[current_node]['children']:\n",
    "            tree[i]['depth'] = current_depth + 1\n",
    "            stack.append(i)\n",
    "\n",
    "    indexes = rev_bfs(tree)\n",
    "\n",
    "    zss_list = [None for i in range(len(indexes))]\n",
    "\n",
    "    for i in indexes:\n",
    "        try:\n",
    "            tree[i]['value'] = float(tree[i]['value'])\n",
    "        except ValueError:\n",
    "            pass\n",
    "        else:\n",
    "            if (constant_bins is not None):\n",
    "                tree[i]['value'] = 'const_%.2f' % get_bin(constant_bins, tree[i]['value'])\n",
    "        if (len(tree[i]['children']) > 0):\n",
    "            zss_list[i] = Node(tree[i]['value'], [zss_list[c] for c in tree[i]['children']])\n",
    "        else:\n",
    "            zss_list[i] = Node(tree[i]['value'])\n",
    "    # print(zss_list[0])\n",
    "    return zss_list[0]"
   ]
  },
  {
   "cell_type": "code",
   "execution_count": null,
   "metadata": {},
   "outputs": [],
   "source": []
  }
 ],
 "metadata": {
  "kernelspec": {
   "display_name": "Julia 1.10.3",
   "language": "julia",
   "name": "julia-1.10"
  },
  "language_info": {
   "file_extension": ".jl",
   "mimetype": "application/julia",
   "name": "julia",
   "version": "1.10.3"
  }
 },
 "nbformat": 4,
 "nbformat_minor": 2
}
