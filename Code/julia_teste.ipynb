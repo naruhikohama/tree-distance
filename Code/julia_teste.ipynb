{
 "cells": [
  {
   "cell_type": "code",
   "execution_count": 14,
   "metadata": {},
   "outputs": [],
   "source": [
    "using CSV\n",
    "using DataFrames"
   ]
  },
  {
   "cell_type": "code",
   "execution_count": 3,
   "metadata": {},
   "outputs": [
    {
     "data": {
      "text/plain": [
       "4-element Vector{String}:\n",
       " \"graphviz_tree_no_tag_FPI_ml-prove.json\"\n",
       " \"graphviz_tree_no_tag_FPI_mushrooms.json\"\n",
       " \"graphviz_tree_with_tag_FPI_ml-prove.json\"\n",
       " \"graphviz_tree_with_tag_FPI_mushrooms.json\""
      ]
     },
     "metadata": {},
     "output_type": "display_data"
    }
   ],
   "source": [
    "folder_path = \"../Data/Graphviz Tree/\"\n",
    "files = filter(f -> endswith(f, \".json\"), readdir(folder_path))"
   ]
  },
  {
   "cell_type": "code",
   "execution_count": 7,
   "metadata": {},
   "outputs": [
    {
     "data": {
      "text/plain": [
       "\"graphviz_tree_no_tag_FPI_ml-prove.json\""
      ]
     },
     "metadata": {},
     "output_type": "display_data"
    }
   ],
   "source": [
    "file = files[1]"
   ]
  },
  {
   "cell_type": "code",
   "execution_count": 8,
   "metadata": {},
   "outputs": [
    {
     "data": {
      "text/plain": [
       "\"../Data/Distancias/Edit Tree\""
      ]
     },
     "metadata": {},
     "output_type": "display_data"
    }
   ],
   "source": [
    "base_name = splitext(basename(file))[1]\n",
    "pattern = r\"_FPI_([^_]+)\"\n",
    "dataset_match = match(pattern, base_name)\n",
    "base_match = dataset_match.captures[1]\n",
    "\n",
    "output_dir = joinpath(\"..\", \"Data\", \"Distancias\", \"Edit Tree\")\n",
    "mkpath(output_dir)"
   ]
  },
  {
   "cell_type": "code",
   "execution_count": 9,
   "metadata": {},
   "outputs": [
    {
     "data": {
      "text/plain": [
       "5-element Vector{String}:\n",
       " \"sample_index_1_FPI_ml-prove.csv\"\n",
       " \"sample_index_2_FPI_ml-prove.csv\"\n",
       " \"sample_index_3_FPI_ml-prove.csv\"\n",
       " \"sample_index_4_FPI_ml-prove.csv\"\n",
       " \"sample_index_5_FPI_ml-prove.csv\""
      ]
     },
     "metadata": {},
     "output_type": "display_data"
    }
   ],
   "source": [
    "indices_folder = \"../Data/Small Sample Index\"\n",
    "indices_files = filter(f -> endswith(f, \".csv\") && occursin(base_match, splitext(basename(f))[1]), readdir(indices_folder))"
   ]
  },
  {
   "cell_type": "code",
   "execution_count": 10,
   "metadata": {},
   "outputs": [
    {
     "data": {
      "text/plain": [
       "\"sample_index_1_FPI_ml-prove.csv\""
      ]
     },
     "metadata": {},
     "output_type": "display_data"
    }
   ],
   "source": [
    "indice_file = indices_files[1]"
   ]
  },
  {
   "cell_type": "code",
   "execution_count": 16,
   "metadata": {},
   "outputs": [
    {
     "ename": "ArgumentError",
     "evalue": "ArgumentError: \"sample_index_1_FPI_ml-prove.csv\" is not a valid file or doesn't exist",
     "output_type": "error",
     "traceback": [
      "ArgumentError: \"sample_index_1_FPI_ml-prove.csv\" is not a valid file or doesn't exist\n",
      "\n",
      "Stacktrace:\n",
      " [1] CSV.Context(source::CSV.Arg, header::CSV.Arg, normalizenames::CSV.Arg, datarow::CSV.Arg, skipto::CSV.Arg, footerskip::CSV.Arg, transpose::CSV.Arg, comment::CSV.Arg, ignoreemptyrows::CSV.Arg, ignoreemptylines::CSV.Arg, select::CSV.Arg, drop::CSV.Arg, limit::CSV.Arg, buffer_in_memory::CSV.Arg, threaded::CSV.Arg, ntasks::CSV.Arg, tasks::CSV.Arg, rows_to_check::CSV.Arg, lines_to_check::CSV.Arg, missingstrings::CSV.Arg, missingstring::CSV.Arg, delim::CSV.Arg, ignorerepeated::CSV.Arg, quoted::CSV.Arg, quotechar::CSV.Arg, openquotechar::CSV.Arg, closequotechar::CSV.Arg, escapechar::CSV.Arg, dateformat::CSV.Arg, dateformats::CSV.Arg, decimal::CSV.Arg, groupmark::CSV.Arg, truestrings::CSV.Arg, falsestrings::CSV.Arg, stripwhitespace::CSV.Arg, type::CSV.Arg, types::CSV.Arg, typemap::CSV.Arg, pool::CSV.Arg, downcast::CSV.Arg, lazystrings::CSV.Arg, stringtype::CSV.Arg, strict::CSV.Arg, silencewarnings::CSV.Arg, maxwarnings::CSV.Arg, debug::CSV.Arg, parsingdebug::CSV.Arg, validate::CSV.Arg, streaming::CSV.Arg)\n",
      "   @ CSV ~/.julia/packages/CSV/cwX2w/src/context.jl:314\n",
      " [2] #File#32\n",
      "   @ ~/.julia/packages/CSV/cwX2w/src/file.jl:222 [inlined]\n",
      " [3] read(source::String, sink::Type; copycols::Bool, kwargs::@Kwargs{header::Bool})\n",
      "   @ CSV ~/.julia/packages/CSV/cwX2w/src/CSV.jl:117\n",
      " [4] top-level scope\n",
      "   @ ~/Documents/tcc_camila/Code/julia_teste.ipynb:1"
     ]
    }
   ],
   "source": [
    "indices = CSV.read(indice_file, DataFrame, header=false)"
   ]
  }
 ],
 "metadata": {
  "kernelspec": {
   "display_name": "Julia 1.10.3",
   "language": "julia",
   "name": "julia-1.10"
  },
  "language_info": {
   "file_extension": ".jl",
   "mimetype": "application/julia",
   "name": "julia",
   "version": "1.10.3"
  }
 },
 "nbformat": 4,
 "nbformat_minor": 2
}
