{
 "cells": [
  {
   "cell_type": "code",
   "execution_count": 1,
   "metadata": {},
   "outputs": [
    {
     "name": "stderr",
     "output_type": "stream",
     "text": [
      "WARNING: using DataFrames.flatten in module Main conflicts with an existing identifier.\n"
     ]
    },
    {
     "data": {
      "text/plain": [
       "tree_edit_distance (generic function with 1 method)"
      ]
     },
     "metadata": {},
     "output_type": "display_data"
    }
   ],
   "source": [
    "using Random\n",
    "using HDF5\n",
    "using Distributed\n",
    "using Base.Iterators: flatten\n",
    "using ProgressMeter\n",
    "using JSON\n",
    "using DataFrames\n",
    "using CSV\n",
    "using Reexport\n",
    "using StatsBase\n",
    "using PyFormattedStrings\n",
    "include(\"simple_tree.jl\")\n",
    "include(\"zss.jl\")"
   ]
  },
  {
   "cell_type": "code",
   "execution_count": 2,
   "metadata": {},
   "outputs": [
    {
     "data": {
      "text/plain": [
       "rev_bfs (generic function with 2 methods)"
      ]
     },
     "metadata": {},
     "output_type": "display_data"
    }
   ],
   "source": [
    "Random.seed!(42)\n",
    "\n",
    "function rev_bfs(tree, root_index=0)\n",
    "    rbfs = Int[]\n",
    "    queue = [root_index]\n",
    "    while !isempty(queue)\n",
    "        current_index = popfirst!(queue)\n",
    "        unshift!(rbfs, current_index)\n",
    "        append!(queue, tree[current_index][\"children\"])\n",
    "    end\n",
    "    return rbfs\n",
    "end"
   ]
  },
  {
   "cell_type": "code",
   "execution_count": 3,
   "metadata": {},
   "outputs": [
    {
     "data": {
      "text/plain": [
       "get_bin (generic function with 1 method)"
      ]
     },
     "metadata": {},
     "output_type": "display_data"
    }
   ],
   "source": [
    "function get_bin(lst, K)\n",
    "    for i in 1:length(lst)\n",
    "        if K < lst[i]\n",
    "            return lst[i-1]\n",
    "        end\n",
    "    end\n",
    "    if K == lst[end]\n",
    "        return lst[end]\n",
    "    else\n",
    "        return nothing\n",
    "    end\n",
    "end"
   ]
  },
  {
   "cell_type": "code",
   "execution_count": 4,
   "metadata": {},
   "outputs": [
    {
     "data": {
      "text/plain": [
       "parse_graphviz_tree_zss (generic function with 1 method)"
      ]
     },
     "metadata": {},
     "output_type": "display_data"
    }
   ],
   "source": [
    "function parse_graphviz_tree_zss(gv_tree::String; root_index=0, constant_bins=nothing, args...)\n",
    "    tree = Dict{Int, Dict}()\n",
    "    nodes = matchall(r\"^(.*?)(?=\\s+fillcolor)\", gv_tree, RegexOpts(\"m\"))\n",
    "    for i in 1:length(nodes)\n",
    "        split_node = split(nodes[i], r\" \\[label=\")\n",
    "        node_index = parse(Int, split_node[1])\n",
    "        node_value = replace(split_node[2], r\",\" => \"\")\n",
    "        tree[node_index] = Dict(\"depth\" => 1, \"value\" => node_value, \"children\" => Int[])\n",
    "    end\n",
    "\n",
    "    children = matchall(r\"\\d+ -> \\d+\", gv_tree)\n",
    "    for i in 1:length(children)\n",
    "        split_child = split(children[i], r\" -> \")\n",
    "        parent = parse(Int, split_child[1])\n",
    "        child = parse(Int, split_child[2])\n",
    "        push!(tree[parent][\"children\"], child)\n",
    "        sort!(tree[parent][\"children\"])\n",
    "    end\n",
    "\n",
    "    starting_index = minimum(keys(tree))\n",
    "    stack = [starting_index]\n",
    "    tree_height = 0\n",
    "    while !isempty(stack)\n",
    "        current_node = popfirst!(stack)\n",
    "        current_depth = tree[current_node][\"depth\"]\n",
    "        tree_height = max(tree_height, current_depth)\n",
    "        for child in tree[current_node][\"children\"]\n",
    "            tree[child][\"depth\"] = current_depth + 1\n",
    "            push!(stack, child)\n",
    "        end\n",
    "    end\n",
    "\n",
    "    indexes = rev_bfs(tree)\n",
    "    zss_list = fill(nothing, length(indexes))\n",
    "\n",
    "    for i in indexes\n",
    "        try\n",
    "            tree[i][\"value\"] = parse(Float64, tree[i][\"value\"])\n",
    "        catch e\n",
    "            if isa(e, ArgumentError)\n",
    "                # do nothing\n",
    "            else\n",
    "                rethrow(e)\n",
    "            end\n",
    "        end\n",
    "\n",
    "        if constant_bins !== nothing\n",
    "            tree[i][\"value\"] = \"const_$(get_bin(constant_bins, tree[i][\"value\"]))\"\n",
    "        end\n",
    "\n",
    "        if !isempty(tree[i][\"children\"])\n",
    "            zss_list[i] = Node(tree[i][\"value\"], [zss_list[c] for c in tree[i][\"children\"]])\n",
    "        else\n",
    "            zss_list[i] = Node(tree[i][\"value\"])\n",
    "        end\n",
    "    end\n",
    "\n",
    "    return zss_list[1]\n",
    "end"
   ]
  },
  {
   "cell_type": "code",
   "execution_count": 5,
   "metadata": {},
   "outputs": [
    {
     "data": {
      "text/plain": [
       "generate_pairs (generic function with 1 method)"
      ]
     },
     "metadata": {},
     "output_type": "display_data"
    }
   ],
   "source": [
    "function generate_pairs(n::Int)\n",
    "    return [(i, j) for i in 1:n for j in i+1:n]\n",
    "end"
   ]
  },
  {
   "cell_type": "code",
   "execution_count": 6,
   "metadata": {},
   "outputs": [
    {
     "data": {
      "text/plain": [
       "write_results_to_hdf5 (generic function with 1 method)"
      ]
     },
     "metadata": {},
     "output_type": "display_data"
    }
   ],
   "source": [
    "function write_results_to_hdf5(hdf5_file, results)\n",
    "    for ((i, j), distance) in results\n",
    "        row_start_index = i * (i + 1) ÷ 2\n",
    "        hdf5_file[\"distance_matrix\"][row_start_index + j + 1] = distance\n",
    "    end\n",
    "end"
   ]
  },
  {
   "cell_type": "code",
   "execution_count": 7,
   "metadata": {},
   "outputs": [
    {
     "data": {
      "text/plain": [
       "4-element Vector{String}:\n",
       " \"../Data/Graphviz Tree/graphviz_tree_no_tag_FPI_ml-prove.json\"\n",
       " \"../Data/Graphviz Tree/graphviz_tree_no_tag_FPI_mushrooms.json\"\n",
       " \"../Data/Graphviz Tree/graphviz_tree_with_tag_FPI_ml-prove.json\"\n",
       " \"../Data/Graphviz Tree/graphviz_tree_with_tag_FPI_mushrooms.json\""
      ]
     },
     "metadata": {},
     "output_type": "display_data"
    }
   ],
   "source": [
    "folder_path = \"../Data/Graphviz Tree/\"\n",
    "files_json = filter(f -> endswith(f, \".json\"), readdir(folder_path))\n",
    "files = (f -> joinpath(folder_path, f)).(files_json)"
   ]
  },
  {
   "cell_type": "code",
   "execution_count": 8,
   "metadata": {},
   "outputs": [
    {
     "data": {
      "text/plain": [
       "\"../Data/Graphviz Tree/graphviz_tree_no_tag_FPI_ml-prove.json\""
      ]
     },
     "metadata": {},
     "output_type": "display_data"
    }
   ],
   "source": [
    "file = files[1]"
   ]
  },
  {
   "cell_type": "code",
   "execution_count": 9,
   "metadata": {},
   "outputs": [
    {
     "data": {
      "text/plain": [
       "69960-element Vector{Any}:\n",
       " \"digraph Program {\\n\\tnode [style=\" ⋯ 320 bytes ⋯ \"> 3\\n\\t3 -> 4\\n\\t3 -> 5\\n\\t3 -> 6\\n}\\n\"\n",
       " \"digraph Program {\\n\\tnode [style=\" ⋯ 320 bytes ⋯ \"> 3\\n\\t3 -> 4\\n\\t3 -> 5\\n\\t3 -> 6\\n}\\n\"\n",
       " \"digraph Program {\\n\\tnode [style=\" ⋯ 320 bytes ⋯ \"> 3\\n\\t3 -> 4\\n\\t3 -> 5\\n\\t3 -> 6\\n}\\n\"\n",
       " \"digraph Program {\\n\\tnode [style=\" ⋯ 324 bytes ⋯ \"> 3\\n\\t3 -> 4\\n\\t3 -> 5\\n\\t3 -> 6\\n}\\n\"\n",
       " \"digraph Program {\\n\\tnode [style=\" ⋯ 324 bytes ⋯ \"> 3\\n\\t3 -> 4\\n\\t3 -> 5\\n\\t3 -> 6\\n}\\n\"\n",
       " \"digraph Program {\\n\\tnode [style=\" ⋯ 324 bytes ⋯ \"> 3\\n\\t3 -> 4\\n\\t3 -> 5\\n\\t3 -> 6\\n}\\n\"\n",
       " \"digraph Program {\\n\\tnode [style=\" ⋯ 472 bytes ⋯ \"> 6\\n\\t3 -> 7\\n\\t3 -> 8\\n\\t3 -> 9\\n}\\n\"\n",
       " \"digraph Program {\\n\\tnode [style=\" ⋯ 472 bytes ⋯ \"> 6\\n\\t3 -> 7\\n\\t3 -> 8\\n\\t3 -> 9\\n}\\n\"\n",
       " \"digraph Program {\\n\\tnode [style=\" ⋯ 472 bytes ⋯ \"> 6\\n\\t3 -> 7\\n\\t3 -> 8\\n\\t3 -> 9\\n}\\n\"\n",
       " \"digraph Program {\\n\\tnode [style=\" ⋯ 515 bytes ⋯ \" 7\\n\\t3 -> 8\\n\\t3 -> 9\\n\\t3 -> 10\\n}\\n\"\n",
       " ⋮\n",
       " \"digraph Program {\\n\\tnode [style=\" ⋯ 658 bytes ⋯ \"\\n\\t5 -> 11\\n\\t5 -> 12\\n\\t5 -> 13\\n}\\n\"\n",
       " \"digraph Program {\\n\\tnode [style=\" ⋯ 658 bytes ⋯ \"\\n\\t5 -> 11\\n\\t5 -> 12\\n\\t5 -> 13\\n}\\n\"\n",
       " \"digraph Program {\\n\\tnode [style=\" ⋯ 658 bytes ⋯ \"\\n\\t5 -> 11\\n\\t5 -> 12\\n\\t5 -> 13\\n}\\n\"\n",
       " \"digraph Program {\\n\\tnode [style=\" ⋯ 657 bytes ⋯ \"\\n\\t5 -> 11\\n\\t5 -> 12\\n\\t5 -> 13\\n}\\n\"\n",
       " \"digraph Program {\\n\\tnode [style=\" ⋯ 657 bytes ⋯ \"\\n\\t5 -> 11\\n\\t5 -> 12\\n\\t5 -> 13\\n}\\n\"\n",
       " \"digraph Program {\\n\\tnode [style=\" ⋯ 657 bytes ⋯ \"\\n\\t5 -> 11\\n\\t5 -> 12\\n\\t5 -> 13\\n}\\n\"\n",
       " \"digraph Program {\\n\\tnode [style=\" ⋯ 657 bytes ⋯ \"\\n\\t5 -> 11\\n\\t5 -> 12\\n\\t5 -> 13\\n}\\n\"\n",
       " \"digraph Program {\\n\\tnode [style=\" ⋯ 657 bytes ⋯ \"\\n\\t5 -> 11\\n\\t5 -> 12\\n\\t5 -> 13\\n}\\n\"\n",
       " \"digraph Program {\\n\\tnode [style=\" ⋯ 657 bytes ⋯ \"\\n\\t5 -> 11\\n\\t5 -> 12\\n\\t5 -> 13\\n}\\n\""
      ]
     },
     "metadata": {},
     "output_type": "display_data"
    }
   ],
   "source": [
    "graphviz_tree_list = open(file) do f\n",
    "    JSON.parse(f)\n",
    "end"
   ]
  },
  {
   "cell_type": "code",
   "execution_count": 10,
   "metadata": {},
   "outputs": [
    {
     "data": {
      "text/plain": [
       "\"..\\\\Data\\\\Distancias\\\\Edit Tree Teste Julia\""
      ]
     },
     "metadata": {},
     "output_type": "display_data"
    }
   ],
   "source": [
    "base_name = splitext(basename(file))[1]\n",
    "pattern = r\"_FPI_([^_]+)\"\n",
    "dataset_match = match(pattern, base_name)\n",
    "base_match = dataset_match.captures[1]\n",
    "\n",
    "output_dir = joinpath(\"..\", \"Data\", \"Distancias\", \"Edit Tree Teste Julia\")\n",
    "mkpath(output_dir)"
   ]
  },
  {
   "cell_type": "code",
   "execution_count": 11,
   "metadata": {},
   "outputs": [
    {
     "data": {
      "text/plain": [
       "5-element Vector{String}:\n",
       " \"../Data/Small Sample Index\\\\sample_index_1_FPI_ml-prove.csv\"\n",
       " \"../Data/Small Sample Index\\\\sample_index_2_FPI_ml-prove.csv\"\n",
       " \"../Data/Small Sample Index\\\\sample_index_3_FPI_ml-prove.csv\"\n",
       " \"../Data/Small Sample Index\\\\sample_index_4_FPI_ml-prove.csv\"\n",
       " \"../Data/Small Sample Index\\\\sample_index_5_FPI_ml-prove.csv\""
      ]
     },
     "metadata": {},
     "output_type": "display_data"
    }
   ],
   "source": [
    "indices_folder = \"../Data/Small Sample Index\"\n",
    "indices_files_csv = filter(f -> endswith(f, \".csv\") && occursin(base_match, splitext(basename(f))[1]), readdir(indices_folder))\n",
    "indices_files = (f -> joinpath(indices_folder, f)).(indices_files_csv)"
   ]
  },
  {
   "cell_type": "code",
   "execution_count": 12,
   "metadata": {},
   "outputs": [
    {
     "data": {
      "text/plain": [
       "\"../Data/Small Sample Index\\\\sample_index_1_FPI_ml-prove.csv\""
      ]
     },
     "metadata": {},
     "output_type": "display_data"
    }
   ],
   "source": [
    "indice_file = indices_files[1]\n"
   ]
  },
  {
   "cell_type": "code",
   "execution_count": 13,
   "metadata": {},
   "outputs": [
    {
     "data": {
      "text/plain": [
       "\"1\""
      ]
     },
     "metadata": {},
     "output_type": "display_data"
    }
   ],
   "source": [
    "indices = CSV.read(indice_file, DataFrame, header=false)[!, 1]\n",
    "sample_name = splitext(basename(indice_file))[1]\n",
    "parts = split(sample_name, '_')\n",
    "sample_number = parts[3]"
   ]
  },
  {
   "cell_type": "code",
   "execution_count": 14,
   "metadata": {},
   "outputs": [
    {
     "data": {
      "text/plain": [
       "43071-element Vector{Tuple{Int64, Int64}}:\n",
       " (1, 2)\n",
       " (1, 3)\n",
       " (1, 4)\n",
       " (1, 5)\n",
       " (1, 6)\n",
       " (1, 7)\n",
       " (1, 8)\n",
       " (1, 9)\n",
       " (1, 10)\n",
       " (1, 11)\n",
       " ⋮\n",
       " (290, 292)\n",
       " (290, 293)\n",
       " (290, 294)\n",
       " (291, 292)\n",
       " (291, 293)\n",
       " (291, 294)\n",
       " (292, 293)\n",
       " (292, 294)\n",
       " (293, 294)"
      ]
     },
     "metadata": {},
     "output_type": "display_data"
    }
   ],
   "source": [
    "sample_trees = [graphviz_tree_list[i] for i in indices if i < length(graphviz_tree_list)]\n",
    "n_trees = length(sample_trees)\n",
    "tree_pairs = generate_pairs(n_trees)"
   ]
  },
  {
   "cell_type": "code",
   "execution_count": 15,
   "metadata": {},
   "outputs": [
    {
     "data": {
      "text/plain": [
       "\"..\\\\Data\\\\Distancias\\\\Edit Tree Teste Julia\\\\dist_edit_tree_graphviz_tree_no_tag_FPI_ml-prove_sample_1.h5\""
      ]
     },
     "metadata": {},
     "output_type": "display_data"
    }
   ],
   "source": [
    "output_hdf5_file = joinpath(output_dir, f\"dist_edit_tree_{base_name}_sample_{sample_number}.h5\")"
   ]
  },
  {
   "cell_type": "code",
   "execution_count": 26,
   "metadata": {},
   "outputs": [],
   "source": [
    "\n",
    "results = Tuple{Tuple{Int, Int}, Float64}[]\n",
    "\n",
    "for (i, j) in tree_pairs\n",
    "    tree1 = sample_trees[i]\n",
    "    tree2 = sample_trees[j]\n",
    "    distance = simple_distance(Node(tree1), Node(tree2))\n",
    "    push!(results, ((i-1, j-1), distance))\n",
    "end\n",
    "\n"
   ]
  },
  {
   "cell_type": "code",
   "execution_count": 27,
   "metadata": {},
   "outputs": [
    {
     "data": {
      "text/plain": [
       "43071-element Vector{Tuple{Tuple{Int64, Int64}, Float64}}:\n",
       " ((0, 1), 0.0)\n",
       " ((0, 2), 0.0)\n",
       " ((0, 3), 0.0)\n",
       " ((0, 4), 0.0)\n",
       " ((0, 5), 0.0)\n",
       " ((0, 6), 0.0)\n",
       " ((0, 7), 0.0)\n",
       " ((0, 8), 0.0)\n",
       " ((0, 9), 0.0)\n",
       " ((0, 10), 0.0)\n",
       " ⋮\n",
       " ((289, 291), 0.0)\n",
       " ((289, 292), 0.0)\n",
       " ((289, 293), 0.0)\n",
       " ((290, 291), 0.0)\n",
       " ((290, 292), 0.0)\n",
       " ((290, 293), 0.0)\n",
       " ((291, 292), 0.0)\n",
       " ((291, 293), 0.0)\n",
       " ((292, 293), 0.0)"
      ]
     },
     "metadata": {},
     "output_type": "display_data"
    }
   ],
   "source": [
    "results"
   ]
  },
  {
   "cell_type": "code",
   "execution_count": 16,
   "metadata": {},
   "outputs": [
    {
     "data": {
      "text/plain": [
       "\"digraph Program {\\n\\tnode [style=filled]\\n\\t0 [label=<Start> fillcolor=\\\"#E68EFB\\\"]\\n\\t1 [label=<preprocessing> fillcolor=\\\"#E68EFB\\\"]\\n\\t2 [label=NoPreprocessing fillcolor=\\\"#8EE7FB\\\"]\\n\\t3 [label=<classification> fillcolor=\\\"#E68EFB\\\"]\\n\\t4 [label=KNearestNeighbors fillcolor=\\\"#8EE7FB\\\"]\\n\\t5\" ⋯ 33 bytes ⋯ \" [label=distance fillcolor=\\\"#8EE7FB\\\"]\\n\\t7 [label=ball_tree fillcolor=\\\"#8EE7FB\\\"]\\n\\t8 [label=60 fillcolor=\\\"#8EE7FB\\\"]\\n\\t9 [label=minkowski fillcolor=\\\"#8EE7FB\\\"]\\n\\t10 [label=3 fillcolor=\\\"#8EE7FB\\\"]\\n\\t0 -> 1\\n\\t1 -> 2\\n\\t0 -> 3\\n\\t3 -> 4\\n\\t3 -> 5\\n\\t3 -> 6\\n\\t3 -> 7\\n\\t3 -> 8\\n\\t3 -> 9\\n\\t3 -> 10\\n}\\n\""
      ]
     },
     "metadata": {},
     "output_type": "display_data"
    }
   ],
   "source": [
    "sample_trees[tree_pairs[1][2]]"
   ]
  },
  {
   "cell_type": "code",
   "execution_count": 18,
   "metadata": {},
   "outputs": [
    {
     "data": {
      "text/plain": [
       "0.0"
      ]
     },
     "metadata": {},
     "output_type": "display_data"
    }
   ],
   "source": [
    "tree1 = sample_trees[tree_pairs[1][1]]\n",
    "tree2 = sample_trees[tree_pairs[1][2]]\n",
    "distance = simple_distance(Node(tree1), Node(tree2))"
   ]
  }
 ],
 "metadata": {
  "kernelspec": {
   "display_name": "Julia 1.9.3",
   "language": "julia",
   "name": "julia-1.9"
  },
  "language_info": {
   "file_extension": ".jl",
   "mimetype": "application/julia",
   "name": "julia",
   "version": "1.9.3"
  }
 },
 "nbformat": 4,
 "nbformat_minor": 2
}
